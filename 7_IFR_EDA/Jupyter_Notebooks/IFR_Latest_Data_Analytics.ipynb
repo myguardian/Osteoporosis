{
  "nbformat": 4,
  "nbformat_minor": 0,
  "metadata": {
    "colab": {
      "provenance": [],
      "authorship_tag": "ABX9TyNVWiHwozoidpSp+/QIU9wU",
      "include_colab_link": true
    },
    "kernelspec": {
      "name": "python3",
      "display_name": "Python 3"
    },
    "language_info": {
      "name": "python"
    }
  },
  "cells": [
    {
      "cell_type": "markdown",
      "metadata": {
        "id": "view-in-github",
        "colab_type": "text"
      },
      "source": [
        "<a href=\"https://colab.research.google.com/github/erdeminmez/Osteoporosis/blob/Survival-Analysis/ErdemTest/Jupyter_Notebooks%20/IFR_Latest_Data_Analytics.ipynb\" target=\"_parent\"><img src=\"https://colab.research.google.com/assets/colab-badge.svg\" alt=\"Open In Colab\"/></a>"
      ]
    },
    {
      "cell_type": "markdown",
      "source": [
        "# IFR Data Analytics"
      ],
      "metadata": {
        "id": "4eKvzG97S5R3"
      }
    },
    {
      "cell_type": "code",
      "source": [
        "print(\"Test!\")"
      ],
      "metadata": {
        "id": "6Q2VMyNNS-AM"
      },
      "execution_count": null,
      "outputs": []
    }
  ]
}